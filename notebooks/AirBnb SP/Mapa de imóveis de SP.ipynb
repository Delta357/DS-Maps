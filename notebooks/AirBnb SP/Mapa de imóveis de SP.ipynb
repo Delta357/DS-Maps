{
 "cells": [
  {
   "cell_type": "code",
   "execution_count": null,
   "metadata": {},
   "outputs": [],
   "source": [
    "import pandas as pd\n",
    "import numpy as np\n",
    "import seaborn as sns\n",
    "%matplotlib inline\n",
    "import matplotlib.pyplot as plt\n",
    "import plotly.express as px\n",
    "import plotly.graph_objs as go"
   ]
  },
  {
   "cell_type": "code",
   "execution_count": null,
   "metadata": {},
   "outputs": [],
   "source": [
    "sns.set_palette(\"Accent\")\n",
    "sns.set_style(\"darkgrid\")"
   ]
  },
  {
   "cell_type": "code",
   "execution_count": null,
   "metadata": {},
   "outputs": [],
   "source": [
    "df = pd.read_csv(\"sao-paulo-properties-april-2019.csv\")\n",
    "df.head()"
   ]
  },
  {
   "cell_type": "code",
   "execution_count": null,
   "metadata": {},
   "outputs": [],
   "source": [
    "df.info()"
   ]
  },
  {
   "cell_type": "code",
   "execution_count": null,
   "metadata": {},
   "outputs": [],
   "source": [
    "df.columns = [\"Preco\",\n",
    "             \"Condomínio\",\n",
    "             \"Tamanho\",\n",
    "             \"Quartos\",\n",
    "             \"Sanitários\",\n",
    "             \"Suites\",\n",
    "             \"Estacionamento\",\n",
    "             \"Elevador\",\n",
    "             \"Mobiliado\",\n",
    "             \"Piscina\",\n",
    "             \"Novo\",\n",
    "             \"Distrito\",\n",
    "             \"Negociação\",\n",
    "             \"Propriedade\",\n",
    "             \"Latitude\",\n",
    "             \"Longitude\"]\n",
    "\n",
    "df.head()"
   ]
  },
  {
   "cell_type": "code",
   "execution_count": null,
   "metadata": {},
   "outputs": [],
   "source": [
    "plt.figure(figsize = (40,40))\n",
    "sns.set(font_scale = 2.3)\n",
    "\n",
    "ax = sns.barplot(x='Preco', y='Distrito', z = data= df, palette = 'plasma')\n",
    "ax.set_title('Média Preço por Distrito', fontsize = 45)\n",
    "\n",
    "plt.figure(figsize=(20, 20))\n",
    "fig = px.density_mapbox(df, lat='Latitude', lon='Longitude', radius=10, zoom=7, \n",
    "                        color_continuous_scale=\"Viridis\",\n",
    "                        range_color=(10, 12),\n",
    "                        mapbox_style=\"stamen-terrain\")\n",
    "fig.update_layout(\n",
    "        title = 'Mapa região de apartamentos em SP capital',\n",
    ")\n",
    "fig.show()"
   ]
  },
  {
   "cell_type": "code",
   "execution_count": null,
   "metadata": {},
   "outputs": [],
   "source": [
    "plt.figure(figsize = (10,8))\n",
    "\n",
    "corr = df.corr()\n",
    "sns.heatmap(corr,  cmap = 'plasma', annot= True);"
   ]
  },
  {
   "cell_type": "code",
   "execution_count": null,
   "metadata": {},
   "outputs": [],
   "source": []
  }
 ],
 "metadata": {
  "kernelspec": {
   "display_name": "Python 3",
   "language": "python",
   "name": "python3"
  },
  "language_info": {
   "codemirror_mode": {
    "name": "ipython",
    "version": 3
   },
   "file_extension": ".py",
   "mimetype": "text/x-python",
   "name": "python",
   "nbconvert_exporter": "python",
   "pygments_lexer": "ipython3",
   "version": "3.7.4"
  }
 },
 "nbformat": 4,
 "nbformat_minor": 2
}
