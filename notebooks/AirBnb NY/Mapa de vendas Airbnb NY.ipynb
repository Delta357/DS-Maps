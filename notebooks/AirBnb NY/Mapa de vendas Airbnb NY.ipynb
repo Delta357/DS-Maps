{
 "cells": [
  {
   "cell_type": "markdown",
   "metadata": {},
   "source": [
    "![title](imagens/01.jpg)"
   ]
  },
  {
   "cell_type": "markdown",
   "metadata": {},
   "source": [
    "# Modelo de Regressão linear - Airbnb Nova York\n",
    "\n",
    "\n",
    "\n",
    "**Contexto**\n",
    "\n",
    "\n",
    "Desde 2008, os hóspedes e anfitriões têm usado o Airbnb para expandir as possibilidades de viagem e apresentar uma forma mais única e personalizada de experimentar o mundo. Este conjunto de dados descreve a atividade de listagem e as métricas em NYC, NY para 2019.\n",
    "\n",
    "\n",
    "\n",
    "**Conteúdo**\n",
    "\n",
    "Este arquivo de dados inclui todas as informações necessárias para descobrir mais sobre hosts, disponibilidade geográfica, métricas necessárias para fazer previsões e tirar conclusões.\n",
    "\n",
    "\n",
    "\n",
    "\n",
    "**Reconhecimentos**\n",
    "\n",
    "Este conjunto de dados públicos faz parte do Airbnb, e a fonte original pode ser encontrada neste site ."
   ]
  },
  {
   "cell_type": "markdown",
   "metadata": {},
   "source": [
    "**Inspiração**\n",
    "\n",
    "O que podemos aprender sobre diferentes hosts e áreas?\n",
    "\n",
    "O que podemos aprender com as previsões? (ex: locais, preços, comentários, etc)\n",
    "\n",
    "Quais hosts são os mais ocupados e por quê?\n",
    "\n",
    "Existe alguma diferença perceptível de tráfego entre as diferentes áreas e qual poderia ser o motivo?"
   ]
  },
  {
   "cell_type": "code",
   "execution_count": null,
   "metadata": {},
   "outputs": [],
   "source": [
    "!pip install -q -U watermark"
   ]
  },
  {
   "cell_type": "code",
   "execution_count": null,
   "metadata": {},
   "outputs": [],
   "source": [
    "from platform import python_version\n",
    "\n",
    "print('Versão python neste Jupyter Notebook:', python_version())"
   ]
  },
  {
   "cell_type": "code",
   "execution_count": null,
   "metadata": {},
   "outputs": [],
   "source": [
    "import pandas as pd\n",
    "import numpy as np\n",
    "import seaborn as sns\n",
    "%matplotlib inline\n",
    "import matplotlib.pyplot as plt\n",
    "import plotly.express as px\n",
    "import plotly.graph_objs as go"
   ]
  },
  {
   "cell_type": "code",
   "execution_count": null,
   "metadata": {},
   "outputs": [],
   "source": [
    "%reload_ext watermark\n",
    "%watermark -a \"Rafael Gallo\" --iversions"
   ]
  },
  {
   "cell_type": "code",
   "execution_count": null,
   "metadata": {},
   "outputs": [],
   "source": [
    "sns.set_palette(\"Accent\")\n",
    "sns.set_style('darkgrid')"
   ]
  },
  {
   "cell_type": "code",
   "execution_count": null,
   "metadata": {},
   "outputs": [],
   "source": [
    "df = pd.read_csv(\"AB_NYC_2019.csv\")\n",
    "df.head()"
   ]
  },
  {
   "cell_type": "code",
   "execution_count": null,
   "metadata": {},
   "outputs": [],
   "source": [
    "df.tail()"
   ]
  },
  {
   "cell_type": "code",
   "execution_count": null,
   "metadata": {},
   "outputs": [],
   "source": [
    "df.info()"
   ]
  },
  {
   "cell_type": "code",
   "execution_count": null,
   "metadata": {},
   "outputs": [],
   "source": [
    "df.shape"
   ]
  },
  {
   "cell_type": "code",
   "execution_count": null,
   "metadata": {},
   "outputs": [],
   "source": [
    "df.isnull().sum()"
   ]
  },
  {
   "cell_type": "code",
   "execution_count": null,
   "metadata": {},
   "outputs": [],
   "source": [
    "df.nunique()"
   ]
  },
  {
   "cell_type": "code",
   "execution_count": null,
   "metadata": {},
   "outputs": [],
   "source": [
    "df.duplicated().sum()"
   ]
  },
  {
   "cell_type": "code",
   "execution_count": null,
   "metadata": {},
   "outputs": [],
   "source": [
    "df.host_id.value_counts().iloc[:5]"
   ]
  },
  {
   "cell_type": "code",
   "execution_count": null,
   "metadata": {},
   "outputs": [],
   "source": [
    "df.columns = [\"ID\",\n",
    "             \"Nome\",\n",
    "             \"hospede_id\",\n",
    "             \"hospede_nome\",\n",
    "             \"Bairro\",\n",
    "             \"Vizinhança\",\n",
    "             \"latitude\",\n",
    "             \"longitude\",\n",
    "             \"Tipo de sala\",\n",
    "             \"Preço\",\n",
    "             \"Noites mínimas\",\n",
    "             \"Número de comentários\",\n",
    "             \"Última revisão\",\n",
    "             \"Avaliações por mês\",\n",
    "             \"Contagem de listagens de host calculada\",\n",
    "             \"Disponibilidade 365\"]\n",
    "\n",
    "df.head()"
   ]
  },
  {
   "cell_type": "code",
   "execution_count": null,
   "metadata": {},
   "outputs": [],
   "source": [
    "df.describe()"
   ]
  },
  {
   "cell_type": "code",
   "execution_count": null,
   "metadata": {},
   "outputs": [],
   "source": [
    "plt.figure(figsize = (10,8))\n",
    "\n",
    "corr = df.corr()\n",
    "sns.heatmap(corr,  cmap = 'plasma', annot= True);"
   ]
  },
  {
   "cell_type": "code",
   "execution_count": null,
   "metadata": {},
   "outputs": [],
   "source": [
    "plt.figure(figsize=(18, 8))\n",
    "\n",
    "sns.countplot(df[\"Bairro\"])"
   ]
  },
  {
   "cell_type": "code",
   "execution_count": null,
   "metadata": {},
   "outputs": [],
   "source": [
    "plt.figure(figsize = (18, 8))\n",
    "\n",
    "ax = sns.barplot(x='Preço', y='Bairro', data= df,\n",
    "                palette = 'plasma')\n",
    "\n",
    "ax.set_title('Média Preço por Distrito')"
   ]
  },
  {
   "cell_type": "code",
   "execution_count": null,
   "metadata": {},
   "outputs": [],
   "source": [
    "plt.figure(figsize=(18, 8))\n",
    "\n",
    "sns.boxplot(x = \"Bairro\", y = \"Disponibilidade 365\", data = df)"
   ]
  },
  {
   "cell_type": "code",
   "execution_count": null,
   "metadata": {},
   "outputs": [],
   "source": [
    "plt.figure(figsize=(10, 6))\n",
    "\n",
    "sns.scatterplot(x = \"latitude\", y = \"longitude\", data = df, hue = \"Bairro\")"
   ]
  },
  {
   "cell_type": "code",
   "execution_count": null,
   "metadata": {},
   "outputs": [],
   "source": [
    "plt.figure(figsize=(10, 6))\n",
    "\n",
    "sns.scatterplot(x = \"latitude\", y = \"longitude\", data = df, hue = \"Tipo de sala\")"
   ]
  },
  {
   "cell_type": "code",
   "execution_count": null,
   "metadata": {},
   "outputs": [],
   "source": [
    "apt = df[[\"latitude\", \"longitude\", \"Preço\"]]\n",
    "\n",
    "fig = px.scatter_mapbox(apt,\n",
    "                       lat = \"latitude\",\n",
    "                       lon = \"longitude\",\n",
    "                       size = \"Preço\",\n",
    "                       color_continuous_scale = px.colors.cyclical.IceFire, \n",
    "                       size_max = 15, \n",
    "                       zoom = 10)\n",
    "\n",
    "fig.update_layout(\n",
    "        title = 'Mapa região de apartamentos Nova York',\n",
    ")\n",
    "fig.update_layout(mapbox_style=\"open-street-map\")\n",
    "fig.update_layout(margin={\"r\":0,\"t\":0,\"l\":0,\"b\":0})\n",
    "fig.show()"
   ]
  },
  {
   "cell_type": "code",
   "execution_count": null,
   "metadata": {},
   "outputs": [],
   "source": [
    "apt = df[[\"latitude\", \"longitude\", \"Disponibilidade 365\"]]\n",
    "\n",
    "fig = px.scatter_mapbox(apt,\n",
    "                       lat = \"latitude\",\n",
    "                       lon = \"longitude\",\n",
    "                       size = \"Disponibilidade 365\",\n",
    "                       color_continuous_scale = px.colors.cyclical.IceFire, \n",
    "                       size_max = 15, \n",
    "                       zoom = 10)\n",
    "\n",
    "fig.update_layout(\n",
    "        title = 'Mapa região de apartamentos Nova York',\n",
    ")\n",
    "fig.update_layout(mapbox_style=\"open-street-map\")\n",
    "fig.update_layout(margin={\"r\":0,\"t\":0,\"l\":0,\"b\":0})\n",
    "fig.show()"
   ]
  },
  {
   "cell_type": "code",
   "execution_count": null,
   "metadata": {},
   "outputs": [],
   "source": []
  },
  {
   "cell_type": "code",
   "execution_count": null,
   "metadata": {},
   "outputs": [],
   "source": []
  }
 ],
 "metadata": {
  "kernelspec": {
   "display_name": "Python 3",
   "language": "python",
   "name": "python3"
  },
  "language_info": {
   "codemirror_mode": {
    "name": "ipython",
    "version": 3
   },
   "file_extension": ".py",
   "mimetype": "text/x-python",
   "name": "python",
   "nbconvert_exporter": "python",
   "pygments_lexer": "ipython3",
   "version": "3.7.4"
  }
 },
 "nbformat": 4,
 "nbformat_minor": 2
}
